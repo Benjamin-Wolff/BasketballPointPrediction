{
  "nbformat": 4,
  "nbformat_minor": 0,
  "metadata": {
    "kernelspec": {
      "display_name": "Python 3",
      "language": "python",
      "name": "python3"
    },
    "language_info": {
      "codemirror_mode": {
        "name": "ipython",
        "version": 3
      },
      "file_extension": ".py",
      "mimetype": "text/x-python",
      "name": "python",
      "nbconvert_exporter": "python",
      "pygments_lexer": "ipython3",
      "version": "3.7.6"
    },
    "colab": {
      "name": "DS4400_Project.ipynb",
      "provenance": [],
      "collapsed_sections": [
        "35-kDSJi8S_X",
        "WMcMCsma8S_X"
      ],
      "include_colab_link": true
    }
  },
  "cells": [
    {
      "cell_type": "markdown",
      "metadata": {
        "id": "view-in-github",
        "colab_type": "text"
      },
      "source": [
        "<a href=\"https://colab.research.google.com/github/Benjamin-Wolff/BasketballPointPrediction/blob/main/DS4400_Project.ipynb\" target=\"_parent\"><img src=\"https://colab.research.google.com/assets/colab-badge.svg\" alt=\"Open In Colab\"/></a>"
      ]
    },
    {
      "cell_type": "markdown",
      "metadata": {
        "id": "JEFseaEd8S_S"
      },
      "source": [
        "<center> <h2> Julius Randle NBA Point Prediction</h2> </center>\n",
        "<center> <h3> DS 4400 </h3> </center>\n",
        "<center><h4>John Cena, Shaan Hossain, Benjamin Wolff, The Rock, Chef Tony </h4></center>"
      ]
    },
    {
      "cell_type": "markdown",
      "metadata": {
        "id": "ZGnChYjy8S_T"
      },
      "source": [
        "## Outline\n",
        "1. [Background](#scrollTo=uUPz-w-58S_T)\n",
        "2. [Data](#scrollTo=eZUhxf1R8S_T)\n",
        "3. [Implementation](#scrollTo=pClO5dBE8S_W)\n",
        "4. [Results](#scrollTo=FJWtTuf68S_X)"
      ]
    },
    {
      "cell_type": "markdown",
      "metadata": {
        "id": "CTMYcbXC8S_T"
      },
      "source": [
        "<a id=\"1\"></a>\n",
        "<hr style=\"height:2px; border:none; color:black; background-color:black;\">"
      ]
    },
    {
      "cell_type": "markdown",
      "metadata": {
        "id": "uUPz-w-58S_T"
      },
      "source": [
        "##1. Background "
      ]
    },
    {
      "cell_type": "markdown",
      "metadata": {
        "id": "DE42Cvmg8S_T"
      },
      "source": [
        "### 1.1 Problem Statement\n",
        "We’re planning on using regression to estimate how many points a specific player (Julius Randle) will score in a given game. The model will be trained on a specific player, but the model could be trained on any player in the NBA given that player has data available for features. We’re planning on using data from the SportsDataIO NBA API described below. There is a plethora of information available regarding each player. The samples we’re using are games and we extra various features from them. We plan on using 10-20 features listed below. For each feature there might be hundreds of data points. Our goal is to use 250 data points for each feature component, meaning that this specific player will have had to play 250 games in the past. Our dataset classes will be natural numbers which represent points scored in a game. We will not restrict this range, so it could be any natural number, but given that players typically don’t score 100 points or negative points, we expect an upper and lower bound from our samples. \n",
        "\n",
        "Extracting the features will be calling the API and linking together all the features from a respective game. A majority of these features are already numerical. Some of the data such as home vs. away or if the game is in the playoffs are not numerical but can easily be translated into 0s and 1s. We do not plan on using categorical data more complex than true or false values. There will be minimal preprocessing in this aspect. \n"
      ]
    },
    {
      "cell_type": "markdown",
      "metadata": {
        "id": "YbSM5wyb8S_T"
      },
      "source": [
        "### 1.2 Purpose\n",
        "\n",
        "Since the beginning of organized sports, sports betting has been an important aspect of the game. Today, with the emergence of sports betting apps and websites that provide a number of different betting options, the task of predicting such sports outcomes has become even more interesting. With our project, we intend to focus on one of the main player-specific bets placed for basketball: points scored. We plan to create a regression model that can predict the number of points a given player will score in a given NBA game.\n",
        "Sports bettors have long tried to “beat the book” and make predictions with a higher likelihood of success than the odds provided by betting companies. With the insights provided by machine learning algorithms and various optimizations we can make, we hope to be able to create a model that can do so. A model that could reliably “beat the book” could provide important information about the game of basketball and what contributes to the success of a player. Similarly, such a model could be very useful and profitable for a basketball bettor who wishes to succeed in bets about a player’s points in a game. \n",
        "Ultimately, our project serves to answer an important question: can we use a regression model to, given data for a basketball player, predict the number of points that player will score for a given game.\n"
      ]
    },
    {
      "cell_type": "markdown",
      "metadata": {
        "id": "123X2CPB8S_T"
      },
      "source": [
        "<a id=\"2\"></a>\n",
        "<hr style=\"height:2px; border:none; color:black; background-color:black;\">"
      ]
    },
    {
      "cell_type": "markdown",
      "metadata": {
        "id": "eZUhxf1R8S_T"
      },
      "source": [
        "##2. Data"
      ]
    },
    {
      "cell_type": "markdown",
      "metadata": {
        "id": "bsliKrV58S_T"
      },
      "source": [
        "### 2.1 Data Acquisition\n",
        "\n",
        "We acquired the data from SportsData.io, which contains a large amount of data \n"
      ]
    },
    {
      "cell_type": "code",
      "metadata": {
        "id": "R23SQCrG8S_T"
      },
      "source": [
        "import pandas as pd\n",
        "\n",
        "url = \"https://raw.githubusercontent.com/Benjamin-Wolff/BasketballPointPrediction/main/julius_randle_career_stats_by_game.csv\"\n",
        "\n",
        "data = pd.read_csv(url, error_bad_lines=False)"
      ],
      "execution_count": null,
      "outputs": []
    },
    {
      "cell_type": "markdown",
      "metadata": {
        "id": "wD0oo-_48S_T"
      },
      "source": [
        "### 2.2 Data Analysis\n",
        "\n",
        "This dataset contains data regarding each of Julius Randle's games. In addition to data regarding the game itself and its teams, this dataset includes some specific information about Julius Randle's performance that we may be able to use to predict future success. Specifics regarding the data can be seen here, under the PlayerGame section: https://sportsdata.io/developers/data-dictionary/nba."
      ]
    },
    {
      "cell_type": "code",
      "metadata": {
        "id": "lh2cuyqN8S_T",
        "colab": {
          "base_uri": "https://localhost:8080/",
          "height": 647
        },
        "outputId": "9e38043a-9d80-4592-c0bf-34567b1c207a"
      },
      "source": [
        "data.tail(10)"
      ],
      "execution_count": null,
      "outputs": [
        {
          "output_type": "execute_result",
          "data": {
            "text/html": [
              "\n",
              "  <div id=\"df-189c491d-ec62-42b1-9575-1af40622b2fe\">\n",
              "    <div class=\"colab-df-container\">\n",
              "      <div>\n",
              "<style scoped>\n",
              "    .dataframe tbody tr th:only-of-type {\n",
              "        vertical-align: middle;\n",
              "    }\n",
              "\n",
              "    .dataframe tbody tr th {\n",
              "        vertical-align: top;\n",
              "    }\n",
              "\n",
              "    .dataframe thead th {\n",
              "        text-align: right;\n",
              "    }\n",
              "</style>\n",
              "<table border=\"1\" class=\"dataframe\">\n",
              "  <thead>\n",
              "    <tr style=\"text-align: right;\">\n",
              "      <th></th>\n",
              "      <th>StatID</th>\n",
              "      <th>Scope</th>\n",
              "      <th>TeamID</th>\n",
              "      <th>PlayerID</th>\n",
              "      <th>SeasonType</th>\n",
              "      <th>Season</th>\n",
              "      <th>Name</th>\n",
              "      <th>Team</th>\n",
              "      <th>Position</th>\n",
              "      <th>Updated</th>\n",
              "      <th>GameID</th>\n",
              "      <th>OpponentID</th>\n",
              "      <th>Opponent</th>\n",
              "      <th>OpponentStatID</th>\n",
              "      <th>Day</th>\n",
              "      <th>DateTime</th>\n",
              "      <th>HomeOrAway</th>\n",
              "      <th>IsGameOver</th>\n",
              "      <th>Games</th>\n",
              "      <th>Started</th>\n",
              "      <th>LineupConfirmed</th>\n",
              "      <th>LineupStatus</th>\n",
              "      <th>FantasyPoints</th>\n",
              "      <th>FanDuelSalary</th>\n",
              "      <th>DraftKingsSalary</th>\n",
              "      <th>YahooSalary</th>\n",
              "      <th>FantasyDataSalary</th>\n",
              "      <th>Minutes</th>\n",
              "      <th>Seconds</th>\n",
              "      <th>FieldGoalsMade</th>\n",
              "      <th>FieldGoalsAttempted</th>\n",
              "      <th>ThreePointersMade</th>\n",
              "      <th>ThreePointersAttempted</th>\n",
              "      <th>FreeThrowsMade</th>\n",
              "      <th>FreeThrowsAttempted</th>\n",
              "      <th>OffensiveRebounds</th>\n",
              "      <th>DefensiveRebounds</th>\n",
              "      <th>Assists</th>\n",
              "      <th>Steals</th>\n",
              "      <th>BlockedShots</th>\n",
              "      <th>...</th>\n",
              "      <th>PersonalFouls</th>\n",
              "      <th>PlusMinus</th>\n",
              "      <th>BlocksAgainst</th>\n",
              "      <th>DoubleDoubles</th>\n",
              "      <th>TripleDoubles</th>\n",
              "      <th>PlayerEfficiencyRating</th>\n",
              "      <th>OffensiveReboundsPercentage</th>\n",
              "      <th>DefensiveReboundsPercentage</th>\n",
              "      <th>TotalReboundsPercentage</th>\n",
              "      <th>AssistsPercentage</th>\n",
              "      <th>StealsPercentage</th>\n",
              "      <th>BlocksPercentage</th>\n",
              "      <th>TurnOversPercentage</th>\n",
              "      <th>UsageRatePercentage</th>\n",
              "      <th>Possessions</th>\n",
              "      <th>Wins</th>\n",
              "      <th>Losses</th>\n",
              "      <th>InjuryStatus</th>\n",
              "      <th>InjuryBodyPart</th>\n",
              "      <th>InjuryNotes</th>\n",
              "      <th>InjuryStartDate</th>\n",
              "      <th>FantasyPointsFanDuel</th>\n",
              "      <th>FantasyPointsDraftKings</th>\n",
              "      <th>FantasyPointsYahoo</th>\n",
              "      <th>FanDuelPosition</th>\n",
              "      <th>DraftKingsPosition</th>\n",
              "      <th>YahooPosition</th>\n",
              "      <th>DivisionWins</th>\n",
              "      <th>DivisionLosses</th>\n",
              "      <th>ConferenceWins</th>\n",
              "      <th>ConferenceLosses</th>\n",
              "      <th>OpponentRank</th>\n",
              "      <th>OpponentPositionRank</th>\n",
              "      <th>OpponentPosition</th>\n",
              "      <th>FantasyDraftSalary</th>\n",
              "      <th>FantasyDraftPosition</th>\n",
              "      <th>FantasyPointsFantasyDraft</th>\n",
              "      <th>Unnamed: 78</th>\n",
              "      <th>Closed</th>\n",
              "      <th>Unnamed: 80</th>\n",
              "    </tr>\n",
              "  </thead>\n",
              "  <tbody>\n",
              "    <tr>\n",
              "      <th>564</th>\n",
              "      <td>916135</td>\n",
              "      <td>PlayerGame</td>\n",
              "      <td>6</td>\n",
              "      <td>20000710</td>\n",
              "      <td>1</td>\n",
              "      <td>2022</td>\n",
              "      <td>Julius Randle</td>\n",
              "      <td>NY</td>\n",
              "      <td>PF</td>\n",
              "      <td>15:16.1</td>\n",
              "      <td>16858</td>\n",
              "      <td>15</td>\n",
              "      <td>MIL</td>\n",
              "      <td>NaN</td>\n",
              "      <td>11/10/21</td>\n",
              "      <td>30:00.0</td>\n",
              "      <td>HOME</td>\n",
              "      <td>1</td>\n",
              "      <td>1</td>\n",
              "      <td>1</td>\n",
              "      <td>1.0</td>\n",
              "      <td>Starting</td>\n",
              "      <td>23.5</td>\n",
              "      <td>9500.0</td>\n",
              "      <td>10300.0</td>\n",
              "      <td>43.0</td>\n",
              "      <td>10300.0</td>\n",
              "      <td>27</td>\n",
              "      <td>13</td>\n",
              "      <td>6</td>\n",
              "      <td>15</td>\n",
              "      <td>3</td>\n",
              "      <td>7</td>\n",
              "      <td>1</td>\n",
              "      <td>2</td>\n",
              "      <td>0</td>\n",
              "      <td>5</td>\n",
              "      <td>1</td>\n",
              "      <td>0</td>\n",
              "      <td>1</td>\n",
              "      <td>...</td>\n",
              "      <td>0</td>\n",
              "      <td>-26</td>\n",
              "      <td>0</td>\n",
              "      <td>0</td>\n",
              "      <td>0</td>\n",
              "      <td>14.12</td>\n",
              "      <td>0.00</td>\n",
              "      <td>20.04</td>\n",
              "      <td>10.02</td>\n",
              "      <td>6.93</td>\n",
              "      <td>0.00</td>\n",
              "      <td>4.40</td>\n",
              "      <td>11.18</td>\n",
              "      <td>31.38</td>\n",
              "      <td>NaN</td>\n",
              "      <td>NaN</td>\n",
              "      <td>NaN</td>\n",
              "      <td>NaN</td>\n",
              "      <td>NaN</td>\n",
              "      <td>NaN</td>\n",
              "      <td>NaN</td>\n",
              "      <td>24.5</td>\n",
              "      <td>26.25</td>\n",
              "      <td>24.5</td>\n",
              "      <td>PF/C</td>\n",
              "      <td>PF/C</td>\n",
              "      <td>PF</td>\n",
              "      <td>NaN</td>\n",
              "      <td>NaN</td>\n",
              "      <td>NaN</td>\n",
              "      <td>NaN</td>\n",
              "      <td>15.0</td>\n",
              "      <td>13.0</td>\n",
              "      <td>NaN</td>\n",
              "      <td>NaN</td>\n",
              "      <td>NaN</td>\n",
              "      <td>26.25</td>\n",
              "      <td>NaN</td>\n",
              "      <td>1</td>\n",
              "      <td>NaN</td>\n",
              "    </tr>\n",
              "    <tr>\n",
              "      <th>565</th>\n",
              "      <td>917149</td>\n",
              "      <td>PlayerGame</td>\n",
              "      <td>6</td>\n",
              "      <td>20000710</td>\n",
              "      <td>1</td>\n",
              "      <td>2022</td>\n",
              "      <td>Julius Randle</td>\n",
              "      <td>NY</td>\n",
              "      <td>PF</td>\n",
              "      <td>15:14.9</td>\n",
              "      <td>16870</td>\n",
              "      <td>2</td>\n",
              "      <td>CHA</td>\n",
              "      <td>NaN</td>\n",
              "      <td>11/12/21</td>\n",
              "      <td>00:00.0</td>\n",
              "      <td>AWAY</td>\n",
              "      <td>1</td>\n",
              "      <td>1</td>\n",
              "      <td>1</td>\n",
              "      <td>1.0</td>\n",
              "      <td>Starting</td>\n",
              "      <td>24.1</td>\n",
              "      <td>9400.0</td>\n",
              "      <td>10200.0</td>\n",
              "      <td>41.0</td>\n",
              "      <td>10200.0</td>\n",
              "      <td>32</td>\n",
              "      <td>52</td>\n",
              "      <td>4</td>\n",
              "      <td>15</td>\n",
              "      <td>1</td>\n",
              "      <td>5</td>\n",
              "      <td>1</td>\n",
              "      <td>4</td>\n",
              "      <td>1</td>\n",
              "      <td>7</td>\n",
              "      <td>5</td>\n",
              "      <td>1</td>\n",
              "      <td>0</td>\n",
              "      <td>...</td>\n",
              "      <td>4</td>\n",
              "      <td>-18</td>\n",
              "      <td>1</td>\n",
              "      <td>0</td>\n",
              "      <td>0</td>\n",
              "      <td>-0.54</td>\n",
              "      <td>2.86</td>\n",
              "      <td>20.86</td>\n",
              "      <td>11.68</td>\n",
              "      <td>24.21</td>\n",
              "      <td>1.45</td>\n",
              "      <td>0.00</td>\n",
              "      <td>22.97</td>\n",
              "      <td>26.50</td>\n",
              "      <td>NaN</td>\n",
              "      <td>NaN</td>\n",
              "      <td>NaN</td>\n",
              "      <td>NaN</td>\n",
              "      <td>NaN</td>\n",
              "      <td>NaN</td>\n",
              "      <td>NaN</td>\n",
              "      <td>25.1</td>\n",
              "      <td>27.50</td>\n",
              "      <td>25.1</td>\n",
              "      <td>PF/C</td>\n",
              "      <td>PF/C</td>\n",
              "      <td>PF</td>\n",
              "      <td>NaN</td>\n",
              "      <td>NaN</td>\n",
              "      <td>NaN</td>\n",
              "      <td>NaN</td>\n",
              "      <td>30.0</td>\n",
              "      <td>28.0</td>\n",
              "      <td>NaN</td>\n",
              "      <td>NaN</td>\n",
              "      <td>NaN</td>\n",
              "      <td>27.50</td>\n",
              "      <td>NaN</td>\n",
              "      <td>1</td>\n",
              "      <td>NaN</td>\n",
              "    </tr>\n",
              "    <tr>\n",
              "      <th>566</th>\n",
              "      <td>918831</td>\n",
              "      <td>PlayerGame</td>\n",
              "      <td>6</td>\n",
              "      <td>20000710</td>\n",
              "      <td>1</td>\n",
              "      <td>2022</td>\n",
              "      <td>Julius Randle</td>\n",
              "      <td>NY</td>\n",
              "      <td>PF</td>\n",
              "      <td>15:13.5</td>\n",
              "      <td>16899</td>\n",
              "      <td>13</td>\n",
              "      <td>IND</td>\n",
              "      <td>NaN</td>\n",
              "      <td>11/15/21</td>\n",
              "      <td>30:00.0</td>\n",
              "      <td>HOME</td>\n",
              "      <td>1</td>\n",
              "      <td>1</td>\n",
              "      <td>1</td>\n",
              "      <td>1.0</td>\n",
              "      <td>Starting</td>\n",
              "      <td>28.7</td>\n",
              "      <td>9200.0</td>\n",
              "      <td>9700.0</td>\n",
              "      <td>39.0</td>\n",
              "      <td>9700.0</td>\n",
              "      <td>35</td>\n",
              "      <td>29</td>\n",
              "      <td>5</td>\n",
              "      <td>15</td>\n",
              "      <td>1</td>\n",
              "      <td>6</td>\n",
              "      <td>0</td>\n",
              "      <td>1</td>\n",
              "      <td>1</td>\n",
              "      <td>10</td>\n",
              "      <td>5</td>\n",
              "      <td>0</td>\n",
              "      <td>1</td>\n",
              "      <td>...</td>\n",
              "      <td>1</td>\n",
              "      <td>-2</td>\n",
              "      <td>1</td>\n",
              "      <td>1</td>\n",
              "      <td>0</td>\n",
              "      <td>5.11</td>\n",
              "      <td>3.14</td>\n",
              "      <td>28.78</td>\n",
              "      <td>16.53</td>\n",
              "      <td>22.36</td>\n",
              "      <td>0.00</td>\n",
              "      <td>2.76</td>\n",
              "      <td>24.46</td>\n",
              "      <td>27.54</td>\n",
              "      <td>NaN</td>\n",
              "      <td>NaN</td>\n",
              "      <td>NaN</td>\n",
              "      <td>NaN</td>\n",
              "      <td>NaN</td>\n",
              "      <td>NaN</td>\n",
              "      <td>NaN</td>\n",
              "      <td>29.7</td>\n",
              "      <td>33.75</td>\n",
              "      <td>29.7</td>\n",
              "      <td>PF/C</td>\n",
              "      <td>PF/C</td>\n",
              "      <td>PF</td>\n",
              "      <td>NaN</td>\n",
              "      <td>NaN</td>\n",
              "      <td>NaN</td>\n",
              "      <td>NaN</td>\n",
              "      <td>15.0</td>\n",
              "      <td>11.0</td>\n",
              "      <td>NaN</td>\n",
              "      <td>NaN</td>\n",
              "      <td>NaN</td>\n",
              "      <td>33.75</td>\n",
              "      <td>NaN</td>\n",
              "      <td>1</td>\n",
              "      <td>NaN</td>\n",
              "    </tr>\n",
              "    <tr>\n",
              "      <th>567</th>\n",
              "      <td>919839</td>\n",
              "      <td>PlayerGame</td>\n",
              "      <td>6</td>\n",
              "      <td>20000710</td>\n",
              "      <td>1</td>\n",
              "      <td>2022</td>\n",
              "      <td>Julius Randle</td>\n",
              "      <td>NY</td>\n",
              "      <td>PF</td>\n",
              "      <td>15:17.3</td>\n",
              "      <td>16915</td>\n",
              "      <td>5</td>\n",
              "      <td>ORL</td>\n",
              "      <td>NaN</td>\n",
              "      <td>11/17/21</td>\n",
              "      <td>30:00.0</td>\n",
              "      <td>HOME</td>\n",
              "      <td>1</td>\n",
              "      <td>1</td>\n",
              "      <td>1</td>\n",
              "      <td>1.0</td>\n",
              "      <td>Starting</td>\n",
              "      <td>22.5</td>\n",
              "      <td>8600.0</td>\n",
              "      <td>9900.0</td>\n",
              "      <td>37.0</td>\n",
              "      <td>9900.0</td>\n",
              "      <td>32</td>\n",
              "      <td>6</td>\n",
              "      <td>4</td>\n",
              "      <td>11</td>\n",
              "      <td>4</td>\n",
              "      <td>10</td>\n",
              "      <td>1</td>\n",
              "      <td>2</td>\n",
              "      <td>0</td>\n",
              "      <td>5</td>\n",
              "      <td>3</td>\n",
              "      <td>1</td>\n",
              "      <td>0</td>\n",
              "      <td>...</td>\n",
              "      <td>5</td>\n",
              "      <td>-21</td>\n",
              "      <td>0</td>\n",
              "      <td>0</td>\n",
              "      <td>0</td>\n",
              "      <td>8.94</td>\n",
              "      <td>0.00</td>\n",
              "      <td>15.57</td>\n",
              "      <td>7.78</td>\n",
              "      <td>14.46</td>\n",
              "      <td>1.52</td>\n",
              "      <td>0.00</td>\n",
              "      <td>20.16</td>\n",
              "      <td>19.99</td>\n",
              "      <td>NaN</td>\n",
              "      <td>NaN</td>\n",
              "      <td>NaN</td>\n",
              "      <td>NaN</td>\n",
              "      <td>NaN</td>\n",
              "      <td>NaN</td>\n",
              "      <td>NaN</td>\n",
              "      <td>23.5</td>\n",
              "      <td>26.25</td>\n",
              "      <td>23.5</td>\n",
              "      <td>PF/C</td>\n",
              "      <td>PF/C</td>\n",
              "      <td>PF</td>\n",
              "      <td>NaN</td>\n",
              "      <td>NaN</td>\n",
              "      <td>NaN</td>\n",
              "      <td>NaN</td>\n",
              "      <td>27.0</td>\n",
              "      <td>28.0</td>\n",
              "      <td>NaN</td>\n",
              "      <td>NaN</td>\n",
              "      <td>NaN</td>\n",
              "      <td>26.25</td>\n",
              "      <td>NaN</td>\n",
              "      <td>1</td>\n",
              "      <td>NaN</td>\n",
              "    </tr>\n",
              "    <tr>\n",
              "      <th>568</th>\n",
              "      <td>921383</td>\n",
              "      <td>PlayerGame</td>\n",
              "      <td>6</td>\n",
              "      <td>20000710</td>\n",
              "      <td>1</td>\n",
              "      <td>2022</td>\n",
              "      <td>Julius Randle</td>\n",
              "      <td>NY</td>\n",
              "      <td>PF</td>\n",
              "      <td>15:15.9</td>\n",
              "      <td>16935</td>\n",
              "      <td>22</td>\n",
              "      <td>HOU</td>\n",
              "      <td>NaN</td>\n",
              "      <td>11/20/21</td>\n",
              "      <td>00:00.0</td>\n",
              "      <td>HOME</td>\n",
              "      <td>1</td>\n",
              "      <td>1</td>\n",
              "      <td>1</td>\n",
              "      <td>1.0</td>\n",
              "      <td>Starting</td>\n",
              "      <td>39.5</td>\n",
              "      <td>8400.0</td>\n",
              "      <td>12600.0</td>\n",
              "      <td>35.0</td>\n",
              "      <td>12600.0</td>\n",
              "      <td>33</td>\n",
              "      <td>23</td>\n",
              "      <td>4</td>\n",
              "      <td>15</td>\n",
              "      <td>2</td>\n",
              "      <td>6</td>\n",
              "      <td>6</td>\n",
              "      <td>8</td>\n",
              "      <td>2</td>\n",
              "      <td>8</td>\n",
              "      <td>9</td>\n",
              "      <td>0</td>\n",
              "      <td>0</td>\n",
              "      <td>...</td>\n",
              "      <td>2</td>\n",
              "      <td>2</td>\n",
              "      <td>2</td>\n",
              "      <td>1</td>\n",
              "      <td>0</td>\n",
              "      <td>18.66</td>\n",
              "      <td>7.37</td>\n",
              "      <td>25.00</td>\n",
              "      <td>16.91</td>\n",
              "      <td>47.49</td>\n",
              "      <td>0.00</td>\n",
              "      <td>0.00</td>\n",
              "      <td>9.74</td>\n",
              "      <td>29.08</td>\n",
              "      <td>NaN</td>\n",
              "      <td>NaN</td>\n",
              "      <td>NaN</td>\n",
              "      <td>NaN</td>\n",
              "      <td>NaN</td>\n",
              "      <td>NaN</td>\n",
              "      <td>NaN</td>\n",
              "      <td>39.5</td>\n",
              "      <td>43.50</td>\n",
              "      <td>39.5</td>\n",
              "      <td>PF/C</td>\n",
              "      <td>PF/C</td>\n",
              "      <td>PF</td>\n",
              "      <td>NaN</td>\n",
              "      <td>NaN</td>\n",
              "      <td>NaN</td>\n",
              "      <td>NaN</td>\n",
              "      <td>30.0</td>\n",
              "      <td>20.0</td>\n",
              "      <td>NaN</td>\n",
              "      <td>NaN</td>\n",
              "      <td>NaN</td>\n",
              "      <td>43.50</td>\n",
              "      <td>NaN</td>\n",
              "      <td>1</td>\n",
              "      <td>NaN</td>\n",
              "    </tr>\n",
              "    <tr>\n",
              "      <th>569</th>\n",
              "      <td>922070</td>\n",
              "      <td>PlayerGame</td>\n",
              "      <td>6</td>\n",
              "      <td>20000710</td>\n",
              "      <td>1</td>\n",
              "      <td>2022</td>\n",
              "      <td>Julius Randle</td>\n",
              "      <td>NY</td>\n",
              "      <td>PF</td>\n",
              "      <td>15:16.9</td>\n",
              "      <td>16946</td>\n",
              "      <td>11</td>\n",
              "      <td>CHI</td>\n",
              "      <td>NaN</td>\n",
              "      <td>11/21/21</td>\n",
              "      <td>00:00.0</td>\n",
              "      <td>AWAY</td>\n",
              "      <td>1</td>\n",
              "      <td>1</td>\n",
              "      <td>1</td>\n",
              "      <td>1.0</td>\n",
              "      <td>Starting</td>\n",
              "      <td>45.5</td>\n",
              "      <td>8400.0</td>\n",
              "      <td>9700.0</td>\n",
              "      <td>35.0</td>\n",
              "      <td>9700.0</td>\n",
              "      <td>38</td>\n",
              "      <td>33</td>\n",
              "      <td>13</td>\n",
              "      <td>19</td>\n",
              "      <td>1</td>\n",
              "      <td>2</td>\n",
              "      <td>7</td>\n",
              "      <td>8</td>\n",
              "      <td>3</td>\n",
              "      <td>7</td>\n",
              "      <td>3</td>\n",
              "      <td>0</td>\n",
              "      <td>0</td>\n",
              "      <td>...</td>\n",
              "      <td>4</td>\n",
              "      <td>6</td>\n",
              "      <td>0</td>\n",
              "      <td>1</td>\n",
              "      <td>0</td>\n",
              "      <td>31.84</td>\n",
              "      <td>8.30</td>\n",
              "      <td>20.26</td>\n",
              "      <td>14.14</td>\n",
              "      <td>19.85</td>\n",
              "      <td>0.00</td>\n",
              "      <td>0.00</td>\n",
              "      <td>18.16</td>\n",
              "      <td>30.97</td>\n",
              "      <td>NaN</td>\n",
              "      <td>NaN</td>\n",
              "      <td>NaN</td>\n",
              "      <td>NaN</td>\n",
              "      <td>NaN</td>\n",
              "      <td>NaN</td>\n",
              "      <td>NaN</td>\n",
              "      <td>45.5</td>\n",
              "      <td>50.50</td>\n",
              "      <td>45.5</td>\n",
              "      <td>PF/C</td>\n",
              "      <td>PF/C</td>\n",
              "      <td>PF</td>\n",
              "      <td>NaN</td>\n",
              "      <td>NaN</td>\n",
              "      <td>NaN</td>\n",
              "      <td>NaN</td>\n",
              "      <td>5.0</td>\n",
              "      <td>28.0</td>\n",
              "      <td>NaN</td>\n",
              "      <td>NaN</td>\n",
              "      <td>NaN</td>\n",
              "      <td>50.50</td>\n",
              "      <td>NaN</td>\n",
              "      <td>1</td>\n",
              "      <td>NaN</td>\n",
              "    </tr>\n",
              "    <tr>\n",
              "      <th>570</th>\n",
              "      <td>923044</td>\n",
              "      <td>PlayerGame</td>\n",
              "      <td>6</td>\n",
              "      <td>20000710</td>\n",
              "      <td>1</td>\n",
              "      <td>2022</td>\n",
              "      <td>Julius Randle</td>\n",
              "      <td>NY</td>\n",
              "      <td>PF</td>\n",
              "      <td>15:17.2</td>\n",
              "      <td>16960</td>\n",
              "      <td>27</td>\n",
              "      <td>LAL</td>\n",
              "      <td>NaN</td>\n",
              "      <td>11/23/21</td>\n",
              "      <td>30:00.0</td>\n",
              "      <td>HOME</td>\n",
              "      <td>1</td>\n",
              "      <td>1</td>\n",
              "      <td>1</td>\n",
              "      <td>1.0</td>\n",
              "      <td>Starting</td>\n",
              "      <td>44.7</td>\n",
              "      <td>8400.0</td>\n",
              "      <td>10000.0</td>\n",
              "      <td>35.0</td>\n",
              "      <td>10000.0</td>\n",
              "      <td>33</td>\n",
              "      <td>47</td>\n",
              "      <td>7</td>\n",
              "      <td>17</td>\n",
              "      <td>1</td>\n",
              "      <td>5</td>\n",
              "      <td>5</td>\n",
              "      <td>8</td>\n",
              "      <td>1</td>\n",
              "      <td>15</td>\n",
              "      <td>5</td>\n",
              "      <td>1</td>\n",
              "      <td>0</td>\n",
              "      <td>...</td>\n",
              "      <td>5</td>\n",
              "      <td>-2</td>\n",
              "      <td>1</td>\n",
              "      <td>1</td>\n",
              "      <td>0</td>\n",
              "      <td>18.37</td>\n",
              "      <td>3.22</td>\n",
              "      <td>36.74</td>\n",
              "      <td>22.28</td>\n",
              "      <td>26.25</td>\n",
              "      <td>1.43</td>\n",
              "      <td>0.00</td>\n",
              "      <td>16.31</td>\n",
              "      <td>33.10</td>\n",
              "      <td>NaN</td>\n",
              "      <td>NaN</td>\n",
              "      <td>NaN</td>\n",
              "      <td>NaN</td>\n",
              "      <td>NaN</td>\n",
              "      <td>NaN</td>\n",
              "      <td>NaN</td>\n",
              "      <td>45.7</td>\n",
              "      <td>49.50</td>\n",
              "      <td>45.7</td>\n",
              "      <td>PF/C</td>\n",
              "      <td>PF/C</td>\n",
              "      <td>PF</td>\n",
              "      <td>NaN</td>\n",
              "      <td>NaN</td>\n",
              "      <td>NaN</td>\n",
              "      <td>NaN</td>\n",
              "      <td>26.0</td>\n",
              "      <td>9.0</td>\n",
              "      <td>NaN</td>\n",
              "      <td>NaN</td>\n",
              "      <td>NaN</td>\n",
              "      <td>49.50</td>\n",
              "      <td>NaN</td>\n",
              "      <td>1</td>\n",
              "      <td>NaN</td>\n",
              "    </tr>\n",
              "    <tr>\n",
              "      <th>571</th>\n",
              "      <td>924364</td>\n",
              "      <td>PlayerGame</td>\n",
              "      <td>6</td>\n",
              "      <td>20000710</td>\n",
              "      <td>1</td>\n",
              "      <td>2022</td>\n",
              "      <td>Julius Randle</td>\n",
              "      <td>NY</td>\n",
              "      <td>PF</td>\n",
              "      <td>15:19.5</td>\n",
              "      <td>16977</td>\n",
              "      <td>29</td>\n",
              "      <td>PHO</td>\n",
              "      <td>NaN</td>\n",
              "      <td>11/26/21</td>\n",
              "      <td>00:00.0</td>\n",
              "      <td>HOME</td>\n",
              "      <td>1</td>\n",
              "      <td>1</td>\n",
              "      <td>1</td>\n",
              "      <td>1.0</td>\n",
              "      <td>Starting</td>\n",
              "      <td>24.2</td>\n",
              "      <td>8700.0</td>\n",
              "      <td>10100.0</td>\n",
              "      <td>36.0</td>\n",
              "      <td>10100.0</td>\n",
              "      <td>31</td>\n",
              "      <td>37</td>\n",
              "      <td>3</td>\n",
              "      <td>8</td>\n",
              "      <td>0</td>\n",
              "      <td>2</td>\n",
              "      <td>3</td>\n",
              "      <td>4</td>\n",
              "      <td>2</td>\n",
              "      <td>4</td>\n",
              "      <td>4</td>\n",
              "      <td>2</td>\n",
              "      <td>1</td>\n",
              "      <td>...</td>\n",
              "      <td>0</td>\n",
              "      <td>-7</td>\n",
              "      <td>0</td>\n",
              "      <td>0</td>\n",
              "      <td>0</td>\n",
              "      <td>12.32</td>\n",
              "      <td>5.95</td>\n",
              "      <td>17.35</td>\n",
              "      <td>10.59</td>\n",
              "      <td>20.62</td>\n",
              "      <td>3.15</td>\n",
              "      <td>2.97</td>\n",
              "      <td>29.06</td>\n",
              "      <td>17.90</td>\n",
              "      <td>NaN</td>\n",
              "      <td>NaN</td>\n",
              "      <td>NaN</td>\n",
              "      <td>NaN</td>\n",
              "      <td>NaN</td>\n",
              "      <td>NaN</td>\n",
              "      <td>NaN</td>\n",
              "      <td>27.2</td>\n",
              "      <td>26.50</td>\n",
              "      <td>27.2</td>\n",
              "      <td>PF/C</td>\n",
              "      <td>PF/C</td>\n",
              "      <td>PF</td>\n",
              "      <td>NaN</td>\n",
              "      <td>NaN</td>\n",
              "      <td>NaN</td>\n",
              "      <td>NaN</td>\n",
              "      <td>5.0</td>\n",
              "      <td>24.0</td>\n",
              "      <td>NaN</td>\n",
              "      <td>NaN</td>\n",
              "      <td>NaN</td>\n",
              "      <td>26.50</td>\n",
              "      <td>NaN</td>\n",
              "      <td>1</td>\n",
              "      <td>NaN</td>\n",
              "    </tr>\n",
              "    <tr>\n",
              "      <th>572</th>\n",
              "      <td>924906</td>\n",
              "      <td>PlayerGame</td>\n",
              "      <td>6</td>\n",
              "      <td>20000710</td>\n",
              "      <td>1</td>\n",
              "      <td>2022</td>\n",
              "      <td>Julius Randle</td>\n",
              "      <td>NY</td>\n",
              "      <td>PF</td>\n",
              "      <td>15:15.3</td>\n",
              "      <td>16989</td>\n",
              "      <td>3</td>\n",
              "      <td>ATL</td>\n",
              "      <td>NaN</td>\n",
              "      <td>11/27/21</td>\n",
              "      <td>30:00.0</td>\n",
              "      <td>AWAY</td>\n",
              "      <td>1</td>\n",
              "      <td>1</td>\n",
              "      <td>1</td>\n",
              "      <td>1.0</td>\n",
              "      <td>Starting</td>\n",
              "      <td>26.2</td>\n",
              "      <td>8700.0</td>\n",
              "      <td>10200.0</td>\n",
              "      <td>36.0</td>\n",
              "      <td>10200.0</td>\n",
              "      <td>31</td>\n",
              "      <td>43</td>\n",
              "      <td>3</td>\n",
              "      <td>14</td>\n",
              "      <td>0</td>\n",
              "      <td>3</td>\n",
              "      <td>2</td>\n",
              "      <td>2</td>\n",
              "      <td>3</td>\n",
              "      <td>8</td>\n",
              "      <td>4</td>\n",
              "      <td>0</td>\n",
              "      <td>0</td>\n",
              "      <td>...</td>\n",
              "      <td>2</td>\n",
              "      <td>2</td>\n",
              "      <td>3</td>\n",
              "      <td>0</td>\n",
              "      <td>0</td>\n",
              "      <td>6.49</td>\n",
              "      <td>9.65</td>\n",
              "      <td>22.01</td>\n",
              "      <td>16.32</td>\n",
              "      <td>19.24</td>\n",
              "      <td>0.00</td>\n",
              "      <td>0.00</td>\n",
              "      <td>6.29</td>\n",
              "      <td>23.63</td>\n",
              "      <td>NaN</td>\n",
              "      <td>NaN</td>\n",
              "      <td>NaN</td>\n",
              "      <td>NaN</td>\n",
              "      <td>NaN</td>\n",
              "      <td>NaN</td>\n",
              "      <td>NaN</td>\n",
              "      <td>26.2</td>\n",
              "      <td>27.25</td>\n",
              "      <td>26.2</td>\n",
              "      <td>PF/C</td>\n",
              "      <td>PF/C</td>\n",
              "      <td>PF</td>\n",
              "      <td>NaN</td>\n",
              "      <td>NaN</td>\n",
              "      <td>NaN</td>\n",
              "      <td>NaN</td>\n",
              "      <td>21.0</td>\n",
              "      <td>9.0</td>\n",
              "      <td>NaN</td>\n",
              "      <td>NaN</td>\n",
              "      <td>NaN</td>\n",
              "      <td>27.25</td>\n",
              "      <td>NaN</td>\n",
              "      <td>1</td>\n",
              "      <td>NaN</td>\n",
              "    </tr>\n",
              "    <tr>\n",
              "      <th>573</th>\n",
              "      <td>926525</td>\n",
              "      <td>PlayerGame</td>\n",
              "      <td>6</td>\n",
              "      <td>20000710</td>\n",
              "      <td>1</td>\n",
              "      <td>2022</td>\n",
              "      <td>Julius Randle</td>\n",
              "      <td>NY</td>\n",
              "      <td>PF</td>\n",
              "      <td>30:22.1</td>\n",
              "      <td>17010</td>\n",
              "      <td>8</td>\n",
              "      <td>BKN</td>\n",
              "      <td>NaN</td>\n",
              "      <td>11/30/21</td>\n",
              "      <td>30:00.0</td>\n",
              "      <td>AWAY</td>\n",
              "      <td>1</td>\n",
              "      <td>1</td>\n",
              "      <td>1</td>\n",
              "      <td>1.0</td>\n",
              "      <td>Starting</td>\n",
              "      <td>47.8</td>\n",
              "      <td>8500.0</td>\n",
              "      <td>9400.0</td>\n",
              "      <td>35.0</td>\n",
              "      <td>9400.0</td>\n",
              "      <td>39</td>\n",
              "      <td>52</td>\n",
              "      <td>11</td>\n",
              "      <td>22</td>\n",
              "      <td>0</td>\n",
              "      <td>2</td>\n",
              "      <td>2</td>\n",
              "      <td>2</td>\n",
              "      <td>0</td>\n",
              "      <td>9</td>\n",
              "      <td>8</td>\n",
              "      <td>2</td>\n",
              "      <td>0</td>\n",
              "      <td>...</td>\n",
              "      <td>4</td>\n",
              "      <td>-8</td>\n",
              "      <td>1</td>\n",
              "      <td>0</td>\n",
              "      <td>0</td>\n",
              "      <td>22.44</td>\n",
              "      <td>0.00</td>\n",
              "      <td>26.42</td>\n",
              "      <td>13.54</td>\n",
              "      <td>31.31</td>\n",
              "      <td>2.58</td>\n",
              "      <td>0.00</td>\n",
              "      <td>11.59</td>\n",
              "      <td>29.31</td>\n",
              "      <td>NaN</td>\n",
              "      <td>NaN</td>\n",
              "      <td>NaN</td>\n",
              "      <td>NaN</td>\n",
              "      <td>NaN</td>\n",
              "      <td>NaN</td>\n",
              "      <td>NaN</td>\n",
              "      <td>49.8</td>\n",
              "      <td>49.75</td>\n",
              "      <td>49.8</td>\n",
              "      <td>PF/C</td>\n",
              "      <td>PF/C</td>\n",
              "      <td>PF</td>\n",
              "      <td>NaN</td>\n",
              "      <td>NaN</td>\n",
              "      <td>NaN</td>\n",
              "      <td>NaN</td>\n",
              "      <td>14.0</td>\n",
              "      <td>8.0</td>\n",
              "      <td>NaN</td>\n",
              "      <td>NaN</td>\n",
              "      <td>NaN</td>\n",
              "      <td>49.75</td>\n",
              "      <td>NaN</td>\n",
              "      <td>1</td>\n",
              "      <td>NaN</td>\n",
              "    </tr>\n",
              "  </tbody>\n",
              "</table>\n",
              "<p>10 rows × 81 columns</p>\n",
              "</div>\n",
              "      <button class=\"colab-df-convert\" onclick=\"convertToInteractive('df-189c491d-ec62-42b1-9575-1af40622b2fe')\"\n",
              "              title=\"Convert this dataframe to an interactive table.\"\n",
              "              style=\"display:none;\">\n",
              "        \n",
              "  <svg xmlns=\"http://www.w3.org/2000/svg\" height=\"24px\"viewBox=\"0 0 24 24\"\n",
              "       width=\"24px\">\n",
              "    <path d=\"M0 0h24v24H0V0z\" fill=\"none\"/>\n",
              "    <path d=\"M18.56 5.44l.94 2.06.94-2.06 2.06-.94-2.06-.94-.94-2.06-.94 2.06-2.06.94zm-11 1L8.5 8.5l.94-2.06 2.06-.94-2.06-.94L8.5 2.5l-.94 2.06-2.06.94zm10 10l.94 2.06.94-2.06 2.06-.94-2.06-.94-.94-2.06-.94 2.06-2.06.94z\"/><path d=\"M17.41 7.96l-1.37-1.37c-.4-.4-.92-.59-1.43-.59-.52 0-1.04.2-1.43.59L10.3 9.45l-7.72 7.72c-.78.78-.78 2.05 0 2.83L4 21.41c.39.39.9.59 1.41.59.51 0 1.02-.2 1.41-.59l7.78-7.78 2.81-2.81c.8-.78.8-2.07 0-2.86zM5.41 20L4 18.59l7.72-7.72 1.47 1.35L5.41 20z\"/>\n",
              "  </svg>\n",
              "      </button>\n",
              "      \n",
              "  <style>\n",
              "    .colab-df-container {\n",
              "      display:flex;\n",
              "      flex-wrap:wrap;\n",
              "      gap: 12px;\n",
              "    }\n",
              "\n",
              "    .colab-df-convert {\n",
              "      background-color: #E8F0FE;\n",
              "      border: none;\n",
              "      border-radius: 50%;\n",
              "      cursor: pointer;\n",
              "      display: none;\n",
              "      fill: #1967D2;\n",
              "      height: 32px;\n",
              "      padding: 0 0 0 0;\n",
              "      width: 32px;\n",
              "    }\n",
              "\n",
              "    .colab-df-convert:hover {\n",
              "      background-color: #E2EBFA;\n",
              "      box-shadow: 0px 1px 2px rgba(60, 64, 67, 0.3), 0px 1px 3px 1px rgba(60, 64, 67, 0.15);\n",
              "      fill: #174EA6;\n",
              "    }\n",
              "\n",
              "    [theme=dark] .colab-df-convert {\n",
              "      background-color: #3B4455;\n",
              "      fill: #D2E3FC;\n",
              "    }\n",
              "\n",
              "    [theme=dark] .colab-df-convert:hover {\n",
              "      background-color: #434B5C;\n",
              "      box-shadow: 0px 1px 3px 1px rgba(0, 0, 0, 0.15);\n",
              "      filter: drop-shadow(0px 1px 2px rgba(0, 0, 0, 0.3));\n",
              "      fill: #FFFFFF;\n",
              "    }\n",
              "  </style>\n",
              "\n",
              "      <script>\n",
              "        const buttonEl =\n",
              "          document.querySelector('#df-189c491d-ec62-42b1-9575-1af40622b2fe button.colab-df-convert');\n",
              "        buttonEl.style.display =\n",
              "          google.colab.kernel.accessAllowed ? 'block' : 'none';\n",
              "\n",
              "        async function convertToInteractive(key) {\n",
              "          const element = document.querySelector('#df-189c491d-ec62-42b1-9575-1af40622b2fe');\n",
              "          const dataTable =\n",
              "            await google.colab.kernel.invokeFunction('convertToInteractive',\n",
              "                                                     [key], {});\n",
              "          if (!dataTable) return;\n",
              "\n",
              "          const docLinkHtml = 'Like what you see? Visit the ' +\n",
              "            '<a target=\"_blank\" href=https://colab.research.google.com/notebooks/data_table.ipynb>data table notebook</a>'\n",
              "            + ' to learn more about interactive tables.';\n",
              "          element.innerHTML = '';\n",
              "          dataTable['output_type'] = 'display_data';\n",
              "          await google.colab.output.renderOutput(dataTable, element);\n",
              "          const docLink = document.createElement('div');\n",
              "          docLink.innerHTML = docLinkHtml;\n",
              "          element.appendChild(docLink);\n",
              "        }\n",
              "      </script>\n",
              "    </div>\n",
              "  </div>\n",
              "  "
            ],
            "text/plain": [
              "     StatID       Scope  TeamID  ...  Unnamed: 78  Closed  Unnamed: 80\n",
              "564  916135  PlayerGame       6  ...          NaN       1          NaN\n",
              "565  917149  PlayerGame       6  ...          NaN       1          NaN\n",
              "566  918831  PlayerGame       6  ...          NaN       1          NaN\n",
              "567  919839  PlayerGame       6  ...          NaN       1          NaN\n",
              "568  921383  PlayerGame       6  ...          NaN       1          NaN\n",
              "569  922070  PlayerGame       6  ...          NaN       1          NaN\n",
              "570  923044  PlayerGame       6  ...          NaN       1          NaN\n",
              "571  924364  PlayerGame       6  ...          NaN       1          NaN\n",
              "572  924906  PlayerGame       6  ...          NaN       1          NaN\n",
              "573  926525  PlayerGame       6  ...          NaN       1          NaN\n",
              "\n",
              "[10 rows x 81 columns]"
            ]
          },
          "metadata": {},
          "execution_count": 115
        }
      ]
    },
    {
      "cell_type": "markdown",
      "source": [
        "### 2.3 Extracting Relevant Features and the Target (Points)\n",
        "Next, we had to separate our feature values from our target values. Doing so took some effort, since we had to use past game data as features for each game, but we were able to successfully do so. We also had to remove some unnecessary/irrelevant data columns that would not be useful."
      ],
      "metadata": {
        "id": "DC91g0cvMNXT"
      }
    },
    {
      "cell_type": "code",
      "source": [
        "import datetime"
      ],
      "metadata": {
        "id": "pMnWf6wtOrvR"
      },
      "execution_count": null,
      "outputs": []
    },
    {
      "cell_type": "code",
      "source": [
        "data_cpy = data.copy()\n",
        "\n",
        "# creates the points category\n",
        "data_cpy[\"Points\"] = (data_cpy[\"ThreePointersMade\"] * 3) + ((data_cpy[\"FieldGoalsMade\"] - data_cpy[\"ThreePointersMade\"]) * 2) + data_cpy[\"FreeThrowsMade\"]\n"
      ],
      "metadata": {
        "id": "ZuEFTKriMYJb"
      },
      "execution_count": null,
      "outputs": []
    },
    {
      "cell_type": "code",
      "source": [
        "# remove unnecessary columns from the data frame\n",
        "removal_columns = ['StatID', 'Scope', 'TeamID', 'PlayerID', 'SeasonType', 'Season', 'Name',\n",
        "       'Team', 'Position', 'Updated', 'GameID', 'OpponentID', 'Games',\n",
        "       'OpponentStatID', 'DateTime', 'IsGameOver', 'Started', 'LineupStatus', 'LineupConfirmed',\n",
        "       'Seconds', 'OffensiveRebounds', 'DefensiveRebounds', 'DoubleDoubles', 'TripleDoubles',\n",
        "       'Assists', 'Steals', 'BlockedShots', 'Turnovers', 'PersonalFouls',\n",
        "       'PlusMinus', 'BlocksAgainst',\t'FantasyDataSalary',\n",
        "       'PlayerEfficiencyRating', 'OffensiveReboundsPercentage',\n",
        "       'DefensiveReboundsPercentage', 'TotalReboundsPercentage',\n",
        "       'AssistsPercentage', 'StealsPercentage', 'BlocksPercentage',\n",
        "       'TurnOversPercentage', 'Possessions', 'InjuryBodyPart', 'InjuryNotes', 'InjuryStartDate',\n",
        "       'DivisionWins', 'DivisionLosses', 'ConferenceWins', \n",
        "       'ConferenceLosses', 'Wins', 'Losses', 'FanDuelPosition', 'DraftKingsPosition', 'YahooPosition', 'FantasyDraftSalary',\n",
        "       'FieldGoalsMade', 'FieldGoalsAttempted', 'ThreePointersMade', 'ThreePointersAttempted', 'FreeThrowsMade', 'FreeThrowsAttempted',\n",
        "       'OpponentPosition', 'FantasyDraftPosition', 'Unnamed: 78', 'Closed', 'Unnamed: 80', 'OpponentPositionRank']\n",
        "data_good = data_cpy.drop(labels=removal_columns, axis=1)"
      ],
      "metadata": {
        "id": "rhWKDTk7NR59"
      },
      "execution_count": null,
      "outputs": []
    },
    {
      "cell_type": "code",
      "source": [
        "data_good['InjuryStatus'].fillna(value=\"\", inplace=True)\n",
        "\n",
        "data_good2 = data_good.copy()\n",
        "\n",
        "# change Home or Away to 0s and 1s\n",
        "data_good2['HomeOrAway'] = data_good['HomeOrAway'].map({'HOME': 1, 'AWAY': 0})\n",
        "\n",
        "# injury: non-null `InjuryStatus` paired with 0 `Minutes`\n",
        "injured_count = 0\n",
        "days_since_injury = [] ## will add as a `DaysSinceInjury` column (data point)\n",
        "for row in range(len(data_good)):\n",
        "  if data_good['InjuryStatus'][row] != \"\" and data_good['Minutes'][row] == 0:\n",
        "    injured_count = 0\n",
        "  else:\n",
        "    if row == 0:\n",
        "      injured_count = 0\n",
        "    else:\n",
        "      injured_count += (datetime.datetime.strptime(data_good['Day'][row],  '%m/%d/%y') - datetime.datetime.strptime(data_good['Day'][row - 1],  '%m/%d/%y')).days\n",
        "  days_since_injury.append(injured_count)\n",
        "\n",
        "# add the new column to the dataframe\n",
        "data_good2[\"DaysSinceInjury\"] = days_since_injury\n",
        "\n",
        "# some of the data has only been collected after 2016, so remove all entries with null values\n",
        "data_good2 = data_good2[data_good2['OpponentRank'].notnull()]\n",
        "data_good2 = data_good2[data_good2['YahooSalary'].notnull()]\n",
        "data_good2 = data_good2[data_good2[\"DraftKingsSalary\"].notnull()]\n",
        "\n",
        "# reset index\n",
        "data_good2.reset_index(inplace=True, drop=True)\n",
        "data_good2.tail()\n"
      ],
      "metadata": {
        "id": "br8LDOgJMYSr",
        "colab": {
          "base_uri": "https://localhost:8080/",
          "height": 270
        },
        "outputId": "30a4b4dc-1b9b-4910-a909-ccad15a1d0ff"
      },
      "execution_count": null,
      "outputs": [
        {
          "output_type": "execute_result",
          "data": {
            "text/html": [
              "\n",
              "  <div id=\"df-609d15e6-40e5-4176-87fd-da48aed17f72\">\n",
              "    <div class=\"colab-df-container\">\n",
              "      <div>\n",
              "<style scoped>\n",
              "    .dataframe tbody tr th:only-of-type {\n",
              "        vertical-align: middle;\n",
              "    }\n",
              "\n",
              "    .dataframe tbody tr th {\n",
              "        vertical-align: top;\n",
              "    }\n",
              "\n",
              "    .dataframe thead th {\n",
              "        text-align: right;\n",
              "    }\n",
              "</style>\n",
              "<table border=\"1\" class=\"dataframe\">\n",
              "  <thead>\n",
              "    <tr style=\"text-align: right;\">\n",
              "      <th></th>\n",
              "      <th>Opponent</th>\n",
              "      <th>Day</th>\n",
              "      <th>HomeOrAway</th>\n",
              "      <th>FantasyPoints</th>\n",
              "      <th>FanDuelSalary</th>\n",
              "      <th>DraftKingsSalary</th>\n",
              "      <th>YahooSalary</th>\n",
              "      <th>Minutes</th>\n",
              "      <th>UsageRatePercentage</th>\n",
              "      <th>InjuryStatus</th>\n",
              "      <th>FantasyPointsFanDuel</th>\n",
              "      <th>FantasyPointsDraftKings</th>\n",
              "      <th>FantasyPointsYahoo</th>\n",
              "      <th>OpponentRank</th>\n",
              "      <th>FantasyPointsFantasyDraft</th>\n",
              "      <th>Points</th>\n",
              "      <th>DaysSinceInjury</th>\n",
              "    </tr>\n",
              "  </thead>\n",
              "  <tbody>\n",
              "    <tr>\n",
              "      <th>441</th>\n",
              "      <td>CHI</td>\n",
              "      <td>11/21/21</td>\n",
              "      <td>0</td>\n",
              "      <td>45.5</td>\n",
              "      <td>8400.0</td>\n",
              "      <td>9700.0</td>\n",
              "      <td>35.0</td>\n",
              "      <td>38</td>\n",
              "      <td>30.97</td>\n",
              "      <td></td>\n",
              "      <td>45.5</td>\n",
              "      <td>50.50</td>\n",
              "      <td>45.5</td>\n",
              "      <td>5.0</td>\n",
              "      <td>50.50</td>\n",
              "      <td>34</td>\n",
              "      <td>239</td>\n",
              "    </tr>\n",
              "    <tr>\n",
              "      <th>442</th>\n",
              "      <td>LAL</td>\n",
              "      <td>11/23/21</td>\n",
              "      <td>1</td>\n",
              "      <td>44.7</td>\n",
              "      <td>8400.0</td>\n",
              "      <td>10000.0</td>\n",
              "      <td>35.0</td>\n",
              "      <td>33</td>\n",
              "      <td>33.10</td>\n",
              "      <td></td>\n",
              "      <td>45.7</td>\n",
              "      <td>49.50</td>\n",
              "      <td>45.7</td>\n",
              "      <td>26.0</td>\n",
              "      <td>49.50</td>\n",
              "      <td>20</td>\n",
              "      <td>241</td>\n",
              "    </tr>\n",
              "    <tr>\n",
              "      <th>443</th>\n",
              "      <td>PHO</td>\n",
              "      <td>11/26/21</td>\n",
              "      <td>1</td>\n",
              "      <td>24.2</td>\n",
              "      <td>8700.0</td>\n",
              "      <td>10100.0</td>\n",
              "      <td>36.0</td>\n",
              "      <td>31</td>\n",
              "      <td>17.90</td>\n",
              "      <td></td>\n",
              "      <td>27.2</td>\n",
              "      <td>26.50</td>\n",
              "      <td>27.2</td>\n",
              "      <td>5.0</td>\n",
              "      <td>26.50</td>\n",
              "      <td>9</td>\n",
              "      <td>244</td>\n",
              "    </tr>\n",
              "    <tr>\n",
              "      <th>444</th>\n",
              "      <td>ATL</td>\n",
              "      <td>11/27/21</td>\n",
              "      <td>0</td>\n",
              "      <td>26.2</td>\n",
              "      <td>8700.0</td>\n",
              "      <td>10200.0</td>\n",
              "      <td>36.0</td>\n",
              "      <td>31</td>\n",
              "      <td>23.63</td>\n",
              "      <td></td>\n",
              "      <td>26.2</td>\n",
              "      <td>27.25</td>\n",
              "      <td>26.2</td>\n",
              "      <td>21.0</td>\n",
              "      <td>27.25</td>\n",
              "      <td>8</td>\n",
              "      <td>245</td>\n",
              "    </tr>\n",
              "    <tr>\n",
              "      <th>445</th>\n",
              "      <td>BKN</td>\n",
              "      <td>11/30/21</td>\n",
              "      <td>0</td>\n",
              "      <td>47.8</td>\n",
              "      <td>8500.0</td>\n",
              "      <td>9400.0</td>\n",
              "      <td>35.0</td>\n",
              "      <td>39</td>\n",
              "      <td>29.31</td>\n",
              "      <td></td>\n",
              "      <td>49.8</td>\n",
              "      <td>49.75</td>\n",
              "      <td>49.8</td>\n",
              "      <td>14.0</td>\n",
              "      <td>49.75</td>\n",
              "      <td>24</td>\n",
              "      <td>248</td>\n",
              "    </tr>\n",
              "  </tbody>\n",
              "</table>\n",
              "</div>\n",
              "      <button class=\"colab-df-convert\" onclick=\"convertToInteractive('df-609d15e6-40e5-4176-87fd-da48aed17f72')\"\n",
              "              title=\"Convert this dataframe to an interactive table.\"\n",
              "              style=\"display:none;\">\n",
              "        \n",
              "  <svg xmlns=\"http://www.w3.org/2000/svg\" height=\"24px\"viewBox=\"0 0 24 24\"\n",
              "       width=\"24px\">\n",
              "    <path d=\"M0 0h24v24H0V0z\" fill=\"none\"/>\n",
              "    <path d=\"M18.56 5.44l.94 2.06.94-2.06 2.06-.94-2.06-.94-.94-2.06-.94 2.06-2.06.94zm-11 1L8.5 8.5l.94-2.06 2.06-.94-2.06-.94L8.5 2.5l-.94 2.06-2.06.94zm10 10l.94 2.06.94-2.06 2.06-.94-2.06-.94-.94-2.06-.94 2.06-2.06.94z\"/><path d=\"M17.41 7.96l-1.37-1.37c-.4-.4-.92-.59-1.43-.59-.52 0-1.04.2-1.43.59L10.3 9.45l-7.72 7.72c-.78.78-.78 2.05 0 2.83L4 21.41c.39.39.9.59 1.41.59.51 0 1.02-.2 1.41-.59l7.78-7.78 2.81-2.81c.8-.78.8-2.07 0-2.86zM5.41 20L4 18.59l7.72-7.72 1.47 1.35L5.41 20z\"/>\n",
              "  </svg>\n",
              "      </button>\n",
              "      \n",
              "  <style>\n",
              "    .colab-df-container {\n",
              "      display:flex;\n",
              "      flex-wrap:wrap;\n",
              "      gap: 12px;\n",
              "    }\n",
              "\n",
              "    .colab-df-convert {\n",
              "      background-color: #E8F0FE;\n",
              "      border: none;\n",
              "      border-radius: 50%;\n",
              "      cursor: pointer;\n",
              "      display: none;\n",
              "      fill: #1967D2;\n",
              "      height: 32px;\n",
              "      padding: 0 0 0 0;\n",
              "      width: 32px;\n",
              "    }\n",
              "\n",
              "    .colab-df-convert:hover {\n",
              "      background-color: #E2EBFA;\n",
              "      box-shadow: 0px 1px 2px rgba(60, 64, 67, 0.3), 0px 1px 3px 1px rgba(60, 64, 67, 0.15);\n",
              "      fill: #174EA6;\n",
              "    }\n",
              "\n",
              "    [theme=dark] .colab-df-convert {\n",
              "      background-color: #3B4455;\n",
              "      fill: #D2E3FC;\n",
              "    }\n",
              "\n",
              "    [theme=dark] .colab-df-convert:hover {\n",
              "      background-color: #434B5C;\n",
              "      box-shadow: 0px 1px 3px 1px rgba(0, 0, 0, 0.15);\n",
              "      filter: drop-shadow(0px 1px 2px rgba(0, 0, 0, 0.3));\n",
              "      fill: #FFFFFF;\n",
              "    }\n",
              "  </style>\n",
              "\n",
              "      <script>\n",
              "        const buttonEl =\n",
              "          document.querySelector('#df-609d15e6-40e5-4176-87fd-da48aed17f72 button.colab-df-convert');\n",
              "        buttonEl.style.display =\n",
              "          google.colab.kernel.accessAllowed ? 'block' : 'none';\n",
              "\n",
              "        async function convertToInteractive(key) {\n",
              "          const element = document.querySelector('#df-609d15e6-40e5-4176-87fd-da48aed17f72');\n",
              "          const dataTable =\n",
              "            await google.colab.kernel.invokeFunction('convertToInteractive',\n",
              "                                                     [key], {});\n",
              "          if (!dataTable) return;\n",
              "\n",
              "          const docLinkHtml = 'Like what you see? Visit the ' +\n",
              "            '<a target=\"_blank\" href=https://colab.research.google.com/notebooks/data_table.ipynb>data table notebook</a>'\n",
              "            + ' to learn more about interactive tables.';\n",
              "          element.innerHTML = '';\n",
              "          dataTable['output_type'] = 'display_data';\n",
              "          await google.colab.output.renderOutput(dataTable, element);\n",
              "          const docLink = document.createElement('div');\n",
              "          docLink.innerHTML = docLinkHtml;\n",
              "          element.appendChild(docLink);\n",
              "        }\n",
              "      </script>\n",
              "    </div>\n",
              "  </div>\n",
              "  "
            ],
            "text/plain": [
              "    Opponent       Day  ...  Points  DaysSinceInjury\n",
              "441      CHI  11/21/21  ...      34              239\n",
              "442      LAL  11/23/21  ...      20              241\n",
              "443      PHO  11/26/21  ...       9              244\n",
              "444      ATL  11/27/21  ...       8              245\n",
              "445      BKN  11/30/21  ...      24              248\n",
              "\n",
              "[5 rows x 17 columns]"
            ]
          },
          "metadata": {},
          "execution_count": 119
        }
      ]
    },
    {
      "cell_type": "code",
      "source": [
        "data_final = data_good2.copy()\n",
        "\n",
        "def average_last_n(df, window_size, reference_column, output_column):\n",
        "  \"\"\"\n",
        "    Finds the average of the previous window_size number of values for a column,\n",
        "      and creates a new column to represent these values.\n",
        "  \"\"\"\n",
        "  lst = []\n",
        "\n",
        "  for i in range(len(df)):\n",
        "      if(i < window_size):\n",
        "          lst.append(df[reference_column].iloc[0:i].mean())\n",
        "      else:\n",
        "          lst.append(df[reference_column].iloc[i-window_size:i].mean())\n",
        "\n",
        "  lst[0] = 0\n",
        "  df[output_column] = lst\n",
        "  return\n",
        "\n",
        "\n",
        "\n",
        "columns_to_average = ['FantasyPoints', 'FanDuelSalary',\n",
        "       'DraftKingsSalary', 'YahooSalary', 'Minutes', 'UsageRatePercentage',\n",
        "       'FantasyPointsFanDuel', 'FantasyPointsDraftKings',\n",
        "       'FantasyPointsYahoo',\n",
        "       'FantasyPointsFantasyDraft', 'Points']\n",
        "\n",
        "# iteratively update all the columns to be average of last 10\n",
        "for col in columns_to_average:\n",
        "  new_name = col + \"Avg\"\n",
        "  average_last_n(data_final, 10, col, new_name)\n",
        "\n",
        "  if col != \"Points\":\n",
        "    data_final.drop(labels=col, inplace=True, axis=1)\n",
        "\n",
        "# perform one-hot encoding with the opponents\n",
        "data_final = pd.concat([data_final, pd.get_dummies(data_final.Opponent, prefix='Opponent')], axis=1)\n",
        "data_final = data_final.drop(labels=[\"Day\", \"Opponent\"], axis=1)\n",
        "data_final.drop(index=data_final.index[0], axis=0, inplace=True)\n",
        "\n",
        "\n",
        "data_final = data_final[data_final[\"DaysSinceInjury\"] != 0]\n",
        "data_final.drop(columns=\"InjuryStatus\", inplace=True)\n",
        "\n",
        "data_final.columns"
      ],
      "metadata": {
        "colab": {
          "base_uri": "https://localhost:8080/"
        },
        "id": "DmPkXLKcCgn9",
        "outputId": "30ff7b48-82c5-4ee6-ba06-9e57a23ad384"
      },
      "execution_count": null,
      "outputs": [
        {
          "output_type": "execute_result",
          "data": {
            "text/plain": [
              "Index(['HomeOrAway', 'OpponentRank', 'Points', 'DaysSinceInjury',\n",
              "       'FantasyPointsAvg', 'FanDuelSalaryAvg', 'DraftKingsSalaryAvg',\n",
              "       'YahooSalaryAvg', 'MinutesAvg', 'UsageRatePercentageAvg',\n",
              "       'FantasyPointsFanDuelAvg', 'FantasyPointsDraftKingsAvg',\n",
              "       'FantasyPointsYahooAvg', 'FantasyPointsFantasyDraftAvg', 'PointsAvg',\n",
              "       'Opponent_ATL', 'Opponent_BKN', 'Opponent_BOS', 'Opponent_CHA',\n",
              "       'Opponent_CHI', 'Opponent_CLE', 'Opponent_DAL', 'Opponent_DEN',\n",
              "       'Opponent_DET', 'Opponent_GS', 'Opponent_HOU', 'Opponent_IND',\n",
              "       'Opponent_LAC', 'Opponent_LAL', 'Opponent_MEM', 'Opponent_MIA',\n",
              "       'Opponent_MIL', 'Opponent_MIN', 'Opponent_NO', 'Opponent_NY',\n",
              "       'Opponent_OKC', 'Opponent_ORL', 'Opponent_PHI', 'Opponent_PHO',\n",
              "       'Opponent_POR', 'Opponent_SA', 'Opponent_SAC', 'Opponent_TOR',\n",
              "       'Opponent_UTA', 'Opponent_WAS'],\n",
              "      dtype='object')"
            ]
          },
          "metadata": {},
          "execution_count": 120
        }
      ]
    },
    {
      "cell_type": "markdown",
      "metadata": {
        "id": "WJKehyD18S_U"
      },
      "source": [
        "### 2.4 Data Visualization\n",
        "\n",
        "We decided to create some graphs in order to better visualize our data and gain some initial insights on the data.\n",
        "\n",
        "To do so, we used Matplotlib to make use of its options for plots."
      ]
    },
    {
      "cell_type": "code",
      "metadata": {
        "id": "d_h41hZO8S_U"
      },
      "source": [
        "import matplotlib.pyplot as plt"
      ],
      "execution_count": null,
      "outputs": []
    },
    {
      "cell_type": "code",
      "metadata": {
        "id": "9IW8odpT8S_U",
        "colab": {
          "base_uri": "https://localhost:8080/",
          "height": 313
        },
        "outputId": "8f9b7f59-1605-439f-90d9-be3a7832f31e"
      },
      "source": [
        "# rough plot of points scored over time\n",
        "plt.plot(data_final['Points'])\n",
        "\n",
        "plt.title(\"Points over time\")\n",
        "plt.xlabel(\"Index\")\n",
        "plt.ylabel(\"Points\")"
      ],
      "execution_count": null,
      "outputs": [
        {
          "output_type": "execute_result",
          "data": {
            "text/plain": [
              "Text(0, 0.5, 'Points')"
            ]
          },
          "metadata": {},
          "execution_count": 122
        },
        {
          "output_type": "display_data",
          "data": {
            "image/png": "[encoded data removed]",
            "text/plain": [
              "<Figure size 432x288 with 1 Axes>"
            ]
          },
          "metadata": {
            "needs_background": "light"
          }
        }
      ]
    },
    {
      "cell_type": "markdown",
      "source": [
        "Based on the plot, predicting the number of points scored by Juliuss Randle may be difficult to predict, since the number of points scored seems to be slightly unpredictable"
      ],
      "metadata": {
        "id": "SNs50U2Y_ijW"
      }
    },
    {
      "cell_type": "markdown",
      "metadata": {
        "id": "p_zFTf0B8S_V"
      },
      "source": [
        "### 2.5 Splitting the Data\n",
        "\n",
        "The last step working with the data was to split the data into a training and testing set and preparing these sets to use for the algorithms. This step was additionally trivial, as Scikit-learn has the train_test_split method that does this splitting into random subsets (with 75% of the data in the training set and 25% in the testing set)."
      ]
    },
    {
      "cell_type": "code",
      "metadata": {
        "id": "R0PRlANS8S_V"
      },
      "source": [
        "from sklearn.model_selection import train_test_split\n",
        "\n",
        "features = data_final.drop(columns=\"Points\")\n",
        "\n",
        "target = data_final[\"Points\"]\n",
        "\n",
        "X_train, X_test, y_train, y_test = train_test_split(features, target, random_state=1000)"
      ],
      "execution_count": null,
      "outputs": []
    },
    {
      "cell_type": "markdown",
      "metadata": {
        "id": "ondWMZQ18S_V"
      },
      "source": [
        "We additionally realized that, since our data has some some features with very diffent ranges of values from others, scaling the data could help the accuracy of the model. As a result, we scaled the training and testing data using the preprocessing.scale method in Scikit-learn."
      ]
    },
    {
      "cell_type": "code",
      "metadata": {
        "id": "qIUye5BA8S_V"
      },
      "source": [
        "from sklearn import preprocessing\n",
        "min_max_scaler = preprocessing.MinMaxScaler()\n",
        "\n",
        "X_train_scaled = min_max_scaler.fit_transform(X_train)\n",
        "X_test_scaled = min_max_scaler.fit_transform(X_test)"
      ],
      "execution_count": null,
      "outputs": []
    },
    {
      "cell_type": "markdown",
      "metadata": {
        "id": "l-uxOhGP8S_W"
      },
      "source": [
        "<a id=\"3\"></a>\n",
        "<hr style=\"height:2px; border:none; color:black; background-color:black;\">"
      ]
    },
    {
      "cell_type": "markdown",
      "metadata": {
        "id": "pClO5dBE8S_W"
      },
      "source": [
        "##3. Implementation"
      ]
    },
    {
      "cell_type": "markdown",
      "source": [
        "### 3.1 Linear Regression\n",
        "\n",
        "Our first algorithm was the linear regression, which during training fits the features each with coefficients to attempt to represent the data with a plane. We chose this model because it is very simple and provides a good baseline to compare to other models.\n",
        "\n",
        "To do so, we used Scikit-learn's LinearRegression model."
      ],
      "metadata": {
        "id": "8fiyH-DwddRV"
      }
    },
    {
      "cell_type": "code",
      "source": [
        "from sklearn.linear_model import LinearRegression"
      ],
      "metadata": {
        "id": "a6230tl7deRk"
      },
      "execution_count": null,
      "outputs": []
    },
    {
      "cell_type": "markdown",
      "source": [
        "We also use some of Scikit-learn's metrics for measuring regression accuracy"
      ],
      "metadata": {
        "id": "Dpy9Sh1De4_P"
      }
    },
    {
      "cell_type": "code",
      "source": [
        "from sklearn.metrics import explained_variance_score"
      ],
      "metadata": {
        "id": "Sa0k-cqje9vT"
      },
      "execution_count": null,
      "outputs": []
    },
    {
      "cell_type": "markdown",
      "source": [
        "We first applied the model with the unscaled data."
      ],
      "metadata": {
        "id": "6PPSzWCQdeel"
      }
    },
    {
      "cell_type": "code",
      "source": [
        "lin_reg = LinearRegression()\n",
        "lin_reg.fit(X=X_train, y= y_train)\n",
        "\n",
        "lin_train_pred = lin_reg.predict(X_train)\n",
        "lin_test_pred = lin_reg.predict(X_test)\n",
        "\n",
        "# compute explained_variance_score\n",
        "lin_train_variance = explained_variance_score(y_train, lin_train_pred)\n",
        "lin_test_variance = explained_variance_score(y_test, lin_test_pred)\n",
        "\n",
        "# compute accuracies\n",
        "lin_train_accuracy = lin_reg.score(X_train, y_train)\n",
        "lin_test_accuracy = lin_reg.score(X_test, y_test)"
      ],
      "metadata": {
        "id": "psui1tN_des3"
      },
      "execution_count": null,
      "outputs": []
    },
    {
      "cell_type": "markdown",
      "source": [
        "Next we applied it to the scaled data."
      ],
      "metadata": {
        "id": "I_u18C_6de34"
      }
    },
    {
      "cell_type": "code",
      "source": [
        "lin_reg_scaled = LinearRegression()\n",
        "lin_reg_scaled.fit(X=X_train_scaled, y= y_train)\n",
        "\n",
        "lin_train_pred_scaled = lin_reg_scaled.predict(X_train_scaled)\n",
        "lin_test_pred_scaled = lin_reg_scaled.predict(X_test_scaled)\n",
        "\n",
        "# compute explained_variance_score\n",
        "lin_train_variance_scaled = explained_variance_score(y_train, lin_train_pred_scaled)\n",
        "lin_test_variance_scaled = explained_variance_score(y_test, lin_test_pred_scaled)"
      ],
      "metadata": {
        "id": "9AFK0yIndfRp"
      },
      "execution_count": null,
      "outputs": []
    },
    {
      "cell_type": "markdown",
      "source": [
        "Compute the Train and Test Accuracy"
      ],
      "metadata": {
        "id": "B8YY8OHW1mEr"
      }
    },
    {
      "cell_type": "code",
      "source": [
        "lin_train_accuracy_scaled = lin_reg_scaled.score(X_train_scaled, y_train)\n",
        "lin_test_accuracy_scaled = lin_reg_scaled.score(X_test_scaled, y_test)\n",
        "\n",
        "print(\"Linear Regression Accuracy:\")\n",
        "print(\"\\t Training set accuracy with scaling: \" + format(lin_train_accuracy_scaled*100, '.2f') + '%')\n",
        "print(\"\\t  set accuracy with scaling: \" + format(lin_test_accuracy_scaled*100, '.2f') + '%\\n')\n",
        "print(\"Linear Regression Variance:\")\n",
        "print(\"\\t Training set variance with scaling: \" + format(lin_train_variance_scaled, '.4f'))\n",
        "print(\"\\t Testing set variance with scaling: \" + format(lin_test_variance_scaled, '.4f'))"
      ],
      "metadata": {
        "colab": {
          "base_uri": "https://localhost:8080/"
        },
        "id": "An1T-aww1mqK",
        "outputId": "94a4b3c5-c9da-44ff-8099-ae4574ca979d"
      },
      "execution_count": null,
      "outputs": [
        {
          "output_type": "stream",
          "name": "stdout",
          "text": [
            "Linear Regression Accuracy:\n",
            "\t Training set accuracy with scaling: 26.36%\n",
            "\t  set accuracy with scaling: 20.17%\n",
            "\n",
            "Linear Regression Variance:\n",
            "\t Training set variance with scaling: 0.2636\n",
            "\t Testing set variance with scaling: 0.2279\n"
          ]
        }
      ]
    },
    {
      "cell_type": "code",
      "source": [
        "import matplotlib.pyplot as plt\n",
        "\n",
        "xAxis = [\"Training set\", \"Testing set\", \n",
        "         \"Training set with scaling\", \n",
        "         \"Testing set with scaling\"]\n",
        "yAxis = [lin_train_accuracy*100, lin_test_accuracy*100, \n",
        "         lin_train_accuracy_scaled*100, lin_test_accuracy_scaled*100]\n",
        "\n",
        "plt.figure(figsize=(15, 5))\n",
        "plt.bar(xAxis,yAxis)\n",
        "plt.title('Linear Regression Model Accuracy')\n",
        "plt.ylabel('Percentage')\n",
        "\n",
        "plt.show()"
      ],
      "metadata": {
        "colab": {
          "base_uri": "https://localhost:8080/",
          "height": 336
        },
        "id": "qkiJAEou1w8P",
        "outputId": "4ea0ba63-9ff6-46cb-9e13-cc7ed0c01054"
      },
      "execution_count": null,
      "outputs": [
        {
          "output_type": "display_data",
          "data": {
            "image/png": "[encoded data removed]",
            "text/plain": [
              "<Figure size 1080x360 with 1 Axes>"
            ]
          },
          "metadata": {
            "needs_background": "light"
          }
        }
      ]
    },
    {
      "cell_type": "markdown",
      "source": [
        "###3.2 Ridge Regression\n",
        "\n",
        "Our next algorithm was the ridge regression, which is similar to linear regression but utilizes an L2 loss regresssion. It tends to do well when the features are highly correlated, which should be the case for our dataset."
      ],
      "metadata": {
        "id": "3ylxMhaEMo_p"
      }
    },
    {
      "cell_type": "code",
      "source": [
        "from sklearn.linear_model import Ridge"
      ],
      "metadata": {
        "id": "vRvo0dMgMpQM"
      },
      "execution_count": null,
      "outputs": []
    },
    {
      "cell_type": "markdown",
      "source": [
        "We first applied the model with the unscaled data."
      ],
      "metadata": {
        "id": "zQEoduUAONCG"
      }
    },
    {
      "cell_type": "code",
      "source": [
        "# create and fit the Ridge Regression model\n",
        "ridge_reg = Ridge()\n",
        "ridge_reg.fit(X=X_train, y= y_train)\n",
        "\n",
        "ridge_train_pred = ridge_reg.predict(X_train)\n",
        "ridge_test_pred = ridge_reg.predict(X_test)\n",
        "\n",
        "# computer explained_variance_score\n",
        "ridge_train_variance = explained_variance_score(y_train, ridge_train_pred)\n",
        "ridge_test_variance = explained_variance_score(y_test, ridge_test_pred)\n",
        "\n",
        "# compute accuracy\n",
        "ridge_train_accuracy = ridge_reg.score(X_train, y_train)\n",
        "ridge_test_accuracy = ridge_reg.score(X_test, y_test)"
      ],
      "metadata": {
        "id": "60l6UcxmMpXb"
      },
      "execution_count": null,
      "outputs": []
    },
    {
      "cell_type": "markdown",
      "source": [
        "Next we applied it to the scaled data."
      ],
      "metadata": {
        "id": "uMD3TdzJORE4"
      }
    },
    {
      "cell_type": "code",
      "source": [
        "# create and fit the Ridge Regression moodel with scaled data\n",
        "ridge_reg_scaled = Ridge()\n",
        "ridge_reg_scaled.fit(X=X_train_scaled, y= y_train)\n",
        "\n",
        "ridge_train_pred_scaled = ridge_reg_scaled.predict(X_train_scaled)\n",
        "ridge_test_pred_scaled = ridge_reg_scaled.predict(X_test_scaled)\n",
        "\n",
        "# computer explained_variance_score\n",
        "ridge_train_variance_scaled = explained_variance_score(y_train, ridge_train_pred_scaled)\n",
        "ridge_test_variance_scaled = explained_variance_score(y_test, ridge_test_pred_scaled)\n",
        "\n",
        "# compute accuracy\n",
        "ridge_train_accuracy_scaled = ridge_reg_scaled.score(X_train_scaled, y_train)\n",
        "ridge_test_accuracy_scaled = ridge_reg_scaled.score(X_test_scaled, y_test)\n"
      ],
      "metadata": {
        "id": "kRQteBvPMpcX"
      },
      "execution_count": null,
      "outputs": []
    },
    {
      "cell_type": "code",
      "source": [
        "print(\"Ridge Regression Accuracy:\")\n",
        "print(\"\\t Training set accuracy with no scaling: \" + format(ridge_train_accuracy*100, '.2f') + '%')\n",
        "print(\"\\t Testing set accuracy with no scaling: \" + format(ridge_test_accuracy*100, '.2f') + '%\\n')\n",
        "print(\"\\t Training set accuracy with scaling: \" + format(ridge_train_accuracy_scaled*100, '.2f') + '%')\n",
        "print(\"\\t Testing set accuracy with scaling: \" + format(ridge_test_accuracy_scaled*100, '.2f') + '%\\n')\n",
        "print(\"Ridge Regression Variance:\")\n",
        "print(\"\\t Training set variance with no scaling: \" + format(ridge_train_variance, '.4f'))\n",
        "print(\"\\t Testing set variance with no scaling: \" + format(ridge_test_variance, '.4f') + '\\n')\n",
        "print(\"\\t Training set variance with scaling: \" + format(ridge_train_variance_scaled, '.4f'))\n",
        "print(\"\\t Testing set variance with scaling: \" + format(ridge_test_variance_scaled, '.4f'))"
      ],
      "metadata": {
        "colab": {
          "base_uri": "https://localhost:8080/"
        },
        "id": "ewSEKwJUNDkE",
        "outputId": "e14bfdef-a778-4a23-cc9b-43db58c40bac"
      },
      "execution_count": null,
      "outputs": [
        {
          "output_type": "stream",
          "name": "stdout",
          "text": [
            "Ridge Regression Accuracy:\n",
            "\t Training set accuracy with no scaling: 26.31%\n",
            "\t Testing set accuracy with no scaling: 22.03%\n",
            "\n",
            "\t Training set accuracy with scaling: 25.93%\n",
            "\t Testing set accuracy with scaling: 19.69%\n",
            "\n",
            "Ridge Regression Variance:\n",
            "\t Training set variance with no scaling: 0.2631\n",
            "\t Testing set variance with no scaling: 0.2431\n",
            "\n",
            "\t Training set variance with scaling: 0.2593\n",
            "\t Testing set variance with scaling: 0.2258\n"
          ]
        }
      ]
    },
    {
      "cell_type": "code",
      "source": [
        "import matplotlib.pyplot as plt\n",
        "\n",
        "xAxis = [\"Training set\", \"Testing set\", \n",
        "         \"Training set with scaling\", \n",
        "         \"Testing set with scaling\"]\n",
        "yAxis = [ridge_train_accuracy*100, ridge_test_accuracy*100, \n",
        "         ridge_train_accuracy_scaled*100, ridge_test_accuracy_scaled*100]\n",
        "\n",
        "plt.figure(figsize=(15, 5))\n",
        "plt.bar(xAxis,yAxis)\n",
        "plt.title('Ridge Regression Model Accuracy')\n",
        "plt.ylabel('Percentage')\n",
        "\n",
        "plt.show()"
      ],
      "metadata": {
        "colab": {
          "base_uri": "https://localhost:8080/",
          "height": 336
        },
        "id": "lcP14qs86Vb_",
        "outputId": "b212b645-fe4c-42f9-cc0f-a9e7df30f613"
      },
      "execution_count": null,
      "outputs": [
        {
          "output_type": "display_data",
          "data": {
            "image/png": "[encoded data removed]",
            "text/plain": [
              "<Figure size 1080x360 with 1 Axes>"
            ]
          },
          "metadata": {
            "needs_background": "light"
          }
        }
      ]
    },
    {
      "cell_type": "markdown",
      "source": [
        "In order to better optimize the model, we use Scikit-learn's GridSearchCV, which performs cross-validation and tests a number of different hyperparameters to determine the best options."
      ],
      "metadata": {
        "id": "I1hx-Uw6PNIz"
      }
    },
    {
      "cell_type": "code",
      "source": [
        "from sklearn.model_selection import GridSearchCV"
      ],
      "metadata": {
        "id": "OAReGXTFPaWS"
      },
      "execution_count": null,
      "outputs": []
    },
    {
      "cell_type": "code",
      "source": [
        "r_param_grid = {\"alpha\":[.001, .01, .1, 1, 10, 100]}\n",
        "\n",
        "r_grid_search = GridSearchCV(Ridge(max_iter=1000000, random_state=4400), r_param_grid, cv=5)\n",
        "\n",
        "# fit the grid search object on the training data (CV will be performed on this)\n",
        "r_grid_search.fit(X=X_train, y=y_train)\n",
        "\n",
        "print(\"Unscaled\")\n",
        "# result of grid search\n",
        "print(\"Best parameters: \", r_grid_search.best_params_)\n",
        "print(\"Best cross-validation score: \", r_grid_search.best_score_)\n",
        "\n",
        "# the performance of the best found parameters on the test set\n",
        "ridge_test_gs = r_grid_search.score(X_test, y_test)\n",
        "print(\"Test set score: \", format(ridge_test_gs, '.4f'))\n",
        "\n",
        "print(\"\\nScaled\")\n",
        "\n",
        "r_s_grid_search = GridSearchCV(Ridge(max_iter=1000000, random_state=4400), r_param_grid, cv=5)\n",
        "\n",
        "# fit the grid search object on the training data (CV will be performed on this)\n",
        "r_s_grid_search.fit(X=X_train_scaled, y=y_train)\n",
        "\n",
        "# result of grid search\n",
        "print(\"Best parameters: \", r_s_grid_search.best_params_)\n",
        "print(\"Best cross-validation score: \", r_s_grid_search.best_score_)\n",
        "\n",
        "# the performance of the best found parameters on the test set\n",
        "ridge_test_gs_s = r_s_grid_search.score(X_test_scaled, y_test)\n",
        "print(\"Test set score: \", format(ridge_test_gs_s, '.4f'))"
      ],
      "metadata": {
        "colab": {
          "base_uri": "https://localhost:8080/"
        },
        "id": "E9XZ8eFENvR5",
        "outputId": "171a4d9f-9918-4fde-b36c-5838cfc8f397"
      },
      "execution_count": null,
      "outputs": [
        {
          "output_type": "stream",
          "name": "stdout",
          "text": [
            "Unscaled\n",
            "Best parameters:  {'alpha': 100}\n",
            "Best cross-validation score:  0.1413649249138719\n",
            "Test set score:  0.2822\n",
            "\n",
            "Scaled\n",
            "Best parameters:  {'alpha': 100}\n",
            "Best cross-validation score:  0.12566139621443687\n",
            "Test set score:  0.1487\n"
          ]
        }
      ]
    },
    {
      "cell_type": "markdown",
      "source": [
        "### 3.3 Neural Network"
      ],
      "metadata": {
        "id": "S1kjD47vy-Fw"
      }
    },
    {
      "cell_type": "code",
      "source": [
        "from sklearn.neural_network import MLPRegressor"
      ],
      "metadata": {
        "id": "fcZ2RovG2DxQ"
      },
      "execution_count": null,
      "outputs": []
    },
    {
      "cell_type": "code",
      "source": [
        "# Neural Network Files Included in GitHub Repo"
      ],
      "metadata": {
        "id": "Vfnnci1TzBnV"
      },
      "execution_count": null,
      "outputs": []
    },
    {
      "cell_type": "markdown",
      "metadata": {
        "id": "FJWtTuf68S_X"
      },
      "source": [
        "##4. Results"
      ]
    },
    {
      "cell_type": "markdown",
      "metadata": {
        "id": "YEFj2y4m8S_X"
      },
      "source": [
        "### 4.1 Accuracy Results\n",
        "\n",
        "Next, we combined the accuracy results to compare."
      ]
    },
    {
      "cell_type": "code",
      "metadata": {
        "id": "6s3WU6BN8S_X",
        "colab": {
          "base_uri": "https://localhost:8080/"
        },
        "outputId": "85b5e1db-7c3d-4931-94c0-1bcabf1d11c8"
      },
      "source": [
        "print(\"Linear Regression Accuracy:\")\n",
        "print(\"\\t Training set accuracy with no scaling: \" + format(lin_train_accuracy*100, '.2f') + '%')\n",
        "print(\"\\t Testing set accuracy with no scaling: \" + format(lin_test_accuracy*100, '.2f') + '%\\n')\n",
        "print(\"\\t Training set accuracy with scaling: \" + format(lin_train_accuracy_scaled*100, '.2f') + '%')\n",
        "print(\"\\t Testing set accuracy with scaling: \" + format(lin_test_accuracy_scaled*100, '.2f') + '%\\n')\n",
        "\n",
        "print(\"Linear Regression Variance:\")\n",
        "print(\"\\t Training set variance with scaling: \" + format(lin_train_variance_scaled, '.4f'))\n",
        "print(\"\\t Testing set variance with scaling: \" + format(lin_test_variance_scaled, '.4f') + '\\n')\n",
        "\n",
        "print(\"Ridge Regression Accuracy:\")\n",
        "print(\"\\t Training set accuracy with no scaling: \" + format(ridge_train_accuracy*100, '.2f') + '%')\n",
        "print(\"\\t Testing set accuracy with no scaling: \" + format(ridge_test_accuracy*100, '.2f') + '%\\n')\n",
        "print(\"\\t Training set accuracy with scaling: \" + format(ridge_train_accuracy_scaled*100, '.2f') + '%')\n",
        "print(\"\\t Testing set accuracy with scaling: \" + format(ridge_test_accuracy_scaled*100, '.2f') + '%\\n')\n",
        "print(\"\\t Testing set accuracy after hyperparameter tuning:\", format(ridge_test_gs * 100, '.2f') + '%')\n",
        "print(\"\\t Testing set accuracy after hyperparameter tuning with scaling:\", format(ridge_test_gs_s * 100, '.2f') + '%\\n')\n",
        "\n",
        "print(\"Ridge Regression Variance:\")\n",
        "print(\"\\t Training set variance with no scaling: \" + format(ridge_train_variance, '.4f'))\n",
        "print(\"\\t Testing set variance with no scaling: \" + format(ridge_test_variance, '.4f') + '\\n')\n",
        "print(\"\\t Training set variance with scaling: \" + format(ridge_train_variance_scaled, '.4f'))\n",
        "print(\"\\t Testing set variance with scaling: \" + format(ridge_test_variance_scaled, '.4f'))"
      ],
      "execution_count": null,
      "outputs": [
        {
          "output_type": "stream",
          "name": "stdout",
          "text": [
            "Linear Regression Accuracy:\n",
            "\t Training set accuracy with no scaling: 26.36%\n",
            "\t Testing set accuracy with no scaling: 20.53%\n",
            "\n",
            "\t Training set accuracy with scaling: 26.36%\n",
            "\t Testing set accuracy with scaling: 20.17%\n",
            "\n",
            "Linear Regression Variance:\n",
            "\t Training set variance with scaling: 0.2636\n",
            "\t Testing set variance with scaling: 0.2279\n",
            "\n",
            "Ridge Regression Accuracy:\n",
            "\t Training set accuracy with no scaling: 26.31%\n",
            "\t Testing set accuracy with no scaling: 22.03%\n",
            "\n",
            "\t Training set accuracy with scaling: 25.93%\n",
            "\t Testing set accuracy with scaling: 19.69%\n",
            "\n",
            "\t Testing set accuracy after hyperparameter tuning: 28.22%\n",
            "\t Testing set accuracy after hyperparameter tuning with scaling: 14.87%\n",
            "\n",
            "Ridge Regression Variance:\n",
            "\t Training set variance with no scaling: 0.2631\n",
            "\t Testing set variance with no scaling: 0.2431\n",
            "\n",
            "\t Training set variance with scaling: 0.2593\n",
            "\t Testing set variance with scaling: 0.2258\n"
          ]
        }
      ]
    },
    {
      "cell_type": "code",
      "source": [
        "import matplotlib.pyplot as plt\n",
        "\n",
        "xAxis = [\"Training set\", \"Testing set\", \n",
        "         \"Training set with scaling\", \n",
        "         \"Testing set with scaling\"]\n",
        "yAxis = [lin_train_accuracy*100, lin_test_accuracy*100, \n",
        "         lin_train_accuracy_scaled*100, lin_test_accuracy_scaled*100]\n",
        "\n",
        "plt.figure(figsize=(15, 5))\n",
        "plt.bar(xAxis,yAxis)\n",
        "plt.title('Linear Regression Model Accuracy')\n",
        "plt.ylabel('Percentage')\n",
        "\n",
        "plt.show()"
      ],
      "metadata": {
        "id": "Uiliv8FNxZ1y",
        "colab": {
          "base_uri": "https://localhost:8080/",
          "height": 336
        },
        "outputId": "10caf120-712f-485b-acd0-014a61c10dba"
      },
      "execution_count": null,
      "outputs": [
        {
          "output_type": "display_data",
          "data": {
            "image/png": "[encoded data removed]",
            "text/plain": [
              "<Figure size 1080x360 with 1 Axes>"
            ]
          },
          "metadata": {
            "needs_background": "light"
          }
        }
      ]
    },
    {
      "cell_type": "code",
      "source": [
        "import matplotlib.pyplot as plt\n",
        "\n",
        "xAxis = [\"Training set\", \"Testing set\", \n",
        "         \"Training set with scaling\", \n",
        "         \"Testing set with scaling\"]\n",
        "yAxis = [ridge_train_accuracy*100, ridge_test_accuracy*100, \n",
        "         ridge_train_accuracy_scaled*100, ridge_test_accuracy_scaled*100]\n",
        "\n",
        "plt.figure(figsize=(15, 5))\n",
        "plt.bar(xAxis,yAxis)\n",
        "plt.title('Ridge Regression Model Accuracy')\n",
        "plt.ylabel('Percentage')\n",
        "\n",
        "plt.show()"
      ],
      "metadata": {
        "id": "pIFIDIrVxaNs",
        "colab": {
          "base_uri": "https://localhost:8080/",
          "height": 336
        },
        "outputId": "cb5ae4ab-9163-4949-fa73-7a7c0a599db2"
      },
      "execution_count": null,
      "outputs": [
        {
          "output_type": "display_data",
          "data": {
            "image/png": "[encoded data removed]",
            "text/plain": [
              "<Figure size 1080x360 with 1 Axes>"
            ]
          },
          "metadata": {
            "needs_background": "light"
          }
        }
      ]
    },
    {
      "cell_type": "markdown",
      "source": [
        "We additionally created a method to determine the accuracy of this model (with some slack)."
      ],
      "metadata": {
        "id": "5Rwc7j86Pqw2"
      }
    },
    {
      "cell_type": "code",
      "source": [
        "def accuracy_slack(y_train, yhat):\n",
        "  counter = 0\n",
        "  for i in range(0, len(y_train)):\n",
        "    if abs(y_train[i] - yhat[i]) < 1:\n",
        "      counter+= 1\n",
        "  return counter/len(y_train)"
      ],
      "metadata": {
        "id": "e0JR4TYyPriq"
      },
      "execution_count": null,
      "outputs": []
    }
  ]
}